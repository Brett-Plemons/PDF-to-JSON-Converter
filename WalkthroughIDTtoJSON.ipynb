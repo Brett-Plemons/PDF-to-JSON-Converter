{
 "cells": [
  {
   "cell_type": "code",
   "execution_count": 1,
   "metadata": {},
   "outputs": [],
   "source": [
    "# Libraries for reading pdf\n",
    "# PyPDF2 is the library that is used for handling .pdf files\n",
    "import PyPDF2 as pdf2\n",
    "# Textract is the Tesseract OCR (Optical Character Recognition) Python IO wrapper\n",
    "# This is used to read and extract text data from picture pdf files. can also be used with other picture formats\n",
    "import textract"
   ]
  },
  {
   "cell_type": "code",
   "execution_count": 2,
   "metadata": {},
   "outputs": [],
   "source": [
    "# for data preprocessing\n",
    "# Regular Expressions is used for finding patterns within the collected data\n",
    "import re\n",
    "# Dateutil library is used to parse text data to find date formats, datetime is simply being used for formatting date\n",
    "from dateutil.parser import parse\n",
    "from datetime import date\n",
    "# The following libraries are used for any calculations that are needed, Biopython for DNA/Primer sequence data.\n",
    "import math\n",
    "from Bio.SeqUtils import molecular_weight as mw\n",
    "from Bio.SeqUtils import MeltingTemp as mt\n",
    "from Bio.Alphabet import generic_dna\n",
    "from Bio.Seq import Seq"
   ]
  },
  {
   "cell_type": "code",
   "execution_count": 3,
   "metadata": {},
   "outputs": [],
   "source": [
    "# For generating the JSON file array and dumping into the output file\n",
    "import json"
   ]
  },
  {
   "cell_type": "code",
   "execution_count": 4,
   "metadata": {},
   "outputs": [],
   "source": [
    "# Here we are setting up the input file to be ready for reading with pypdf and textract and setting global variables\n",
    "filename = \"TestSpec.pdf\"\n",
    "\n",
    "pdfFileObj = open(filename, 'rb')\n",
    "\n",
    "pdfReader = pdf2.PdfFileReader(pdfFileObj)\n",
    "\n",
    "text = \"\"\n",
    "\n",
    "pageObj = pdfReader.getPage(0)\n",
    "\n",
    "text += pageObj.extractText()\n"
   ]
  },
  {
   "cell_type": "code",
   "execution_count": 5,
   "metadata": {},
   "outputs": [],
   "source": [
    "# Since there are different types of .pdf files there are different ways we can read them\n",
    "# This if statement checks if the file is a scanned or tabular (picture or text) pdf file\n",
    "if text != \"\":\n",
    "    text = text\n",
    "else:\n",
    "    text = textract.process(filename, method=\"tesseract\", language=\"eng\")\n",
    "    \n",
    "# Since we are now done with collecting data we should close the pdf file as to not cause corruption\n",
    "pdfFileObj.close()\n"
   ]
  },
  {
   "cell_type": "code",
   "execution_count": 6,
   "metadata": {},
   "outputs": [],
   "source": [
    "# Here we are going to be cleaning the data so that it is easier to handle\n",
    "# Converts text to string from byte data for preprocessing\n",
    "stringedText = str(text)\n",
    "\n",
    "# Removed escaped lines and replaced them with actual new lines.\n",
    "formattedText = stringedText.replace('\\\\n', '\\n')\n",
    "\n",
    "# Slices the long string into a workable piece (only contains useful data)\n",
    "slice1 = formattedText[(formattedText.index(\"SHEET\") + 10): (formattedText.index(\"Secondary\") - 2)]\n",
    "\n",
    "# And finally we are just removing extra values that are not really human readable.\n",
    "clean = re.sub('\\n', \" \", slice1)\n",
    "\n",
    "clean2 = re.sub(' +', ' ', clean)\n"
   ]
  },
  {
   "cell_type": "code",
   "execution_count": 8,
   "metadata": {},
   "outputs": [],
   "source": [
    "# Collect the sequence name (The name of the JSON file)\n",
    "name = clean2[clean2.index(\"Sequence\") + 11: clean2.index(\"Sequence\") + 19]\n"
   ]
  },
  {
   "cell_type": "code",
   "execution_count": 9,
   "metadata": {},
   "outputs": [
    {
     "name": "stdin",
     "output_type": "stream",
     "text": [
      "Who placed this order?  Brett Plemons\n",
      "Who is receiving this order?  Brett Plemons\n"
     ]
    }
   ],
   "source": [
    "# Collecting Shipment\n",
    "ordered = input(\"Who placed this order? \")\n",
    "\n",
    "received = input(\"Who is receiving this order? \")\n",
    "\n",
    "dateOrder = re.findall(\n",
    "    r'(\\d{2}[\\/\\- ](\\d{2}|January|Jan|February|Feb|March|Mar|April|Apr|May|May|June|Jun|July|Jul|August|Aug|September|Sep|October|Oct|November|Nov|December|Dec)[\\/\\- ]\\d{2,4})',\n",
    "    clean2)\n",
    "\n",
    "dateReceived = date.today()\n",
    "\n",
    "refNo = clean2[clean2.index(\"ref.No. \")+8: clean2.index(\"ref.No.\")+17]\n",
    "\n",
    "orderNo = clean2[clean2.index(\"Order No.\") +\n",
    "                 10: clean2.index(\"Order No.\") + 18]\n"
   ]
  },
  {
   "cell_type": "code",
   "execution_count": 10,
   "metadata": {},
   "outputs": [],
   "source": [
    "# Here we are collecting the Oligo-data and calculating the necessary data\n",
    "# The necessary data is GC%, TM, Molecular Weight (product specific), Dilution Weight (product Specific), and Dilution volume\n",
    "bases = int(clean2[clean2.index(\"bases\") - 3:clean2.index(\"bases\") - 1])\n",
    "\n",
    "seqList = [line for line in clean2 if re.match(r'^[AGCT]+$', line)]\n",
    "\n",
    "sequence = \"\".join(i for i in seqList[:bases])\n",
    "\n",
    "# Function used to calculate GC%, BioPython has a module for this but it was more inaccurate for this\n",
    "# small of a sequence compared to calculating it myself.\n",
    "def gcContent(sequence):\n",
    "    count = 0\n",
    "    for i in sequence:\n",
    "        if i == 'G' or i == 'C':\n",
    "            count += 1\n",
    "        else:\n",
    "            count = count\n",
    "    return round((count / bases) * 100, 1)\n",
    "\n",
    "gc = gcContent(sequence)\n",
    "\n",
    "tm = mt.Tm_GC(sequence, Na=50)\n",
    "\n",
    "moleWeight = round(mw(Seq(sequence, generic_dna)), 2)\n",
    "\n",
    "dilWeight = float(clean2[clean2.index(\"ug/OD260:\") +\n",
    "                         10: clean2.index(\"ug/OD260:\") + 14])\n",
    "\n",
    "dilution = dilWeight * 10"
   ]
  },
  {
   "cell_type": "code",
   "execution_count": 13,
   "metadata": {},
   "outputs": [],
   "source": [
    "# Lastly we will create a dictionary (the easiest format to dump into a .JSON) with the collected data\n",
    "primerDict = {\"Primer Data\":{\n",
    "                           \"Sequence\": sequence,\n",
    "                           \"Bases\": bases,\n",
    "                           \"TM (50mM NaCl)\": tm,\n",
    "                           \"% GC content\": gc,\n",
    "                           \"Molecular weight\": moleWeight,\n",
    "                           \"ug/0D260\": dilWeight,\n",
    "                           \"Dilution volume (uL)\": dilution\n",
    "               },\n",
    "               \"Shipment Info\": {\n",
    "                           \"Ref. No.\": refNo,\n",
    "                           \"Order No.\": orderNo,\n",
    "                           \"Ordered by\": ordered,\n",
    "                           \"Date of Order\": dateOrder,\n",
    "                           \"Received By\": received,\n",
    "                           \"Date Received\": str(dateReceived.strftime(\"%d-%b-%Y\"))\n",
    "               }}\n"
   ]
  },
  {
   "cell_type": "code",
   "execution_count": 14,
   "metadata": {},
   "outputs": [],
   "source": [
    "# We create a JSON array datatype and 'dump' it into a .JSON file that is labeled as the sequence name.\n",
    "with open(\"\".join(name) + \".json\", 'w') as file:\n",
    "    primerJSON = json.dumps(primerDict, ensure_ascii=False)\n",
    "    file.write(primerJSON)\n",
    "    "
   ]
  },
  {
   "cell_type": "code",
   "execution_count": null,
   "metadata": {},
   "outputs": [],
   "source": []
  }
 ],
 "metadata": {
  "kernelspec": {
   "display_name": "Python 3",
   "language": "python",
   "name": "python3"
  },
  "language_info": {
   "codemirror_mode": {
    "name": "ipython",
    "version": 3
   },
   "file_extension": ".py",
   "mimetype": "text/x-python",
   "name": "python",
   "nbconvert_exporter": "python",
   "pygments_lexer": "ipython3",
   "version": "3.7.2"
  }
 },
 "nbformat": 4,
 "nbformat_minor": 2
}
